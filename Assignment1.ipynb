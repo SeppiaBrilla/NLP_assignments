{
 "cells": [
  {
   "cell_type": "markdown",
   "metadata": {
    "id": "-WeCeITXoxLf"
   },
   "source": [
    "# Assignment 1\n",
    "\n",
    "**Credits**: Federico Ruggeri, Eleonora Mancini, Paolo Torroni\n",
    "\n",
    "**Keywords**: POS tagging, Sequence labelling, RNNs"
   ]
  },
  {
   "cell_type": "markdown",
   "metadata": {
    "id": "wK4tXYIZPWgv"
   },
   "source": [
    "\n",
    "# Contact\n",
    "\n",
    "For any doubt, question, issue or help, you can always contact us at the following email addresses:\n",
    "\n",
    "Teaching Assistants:\n",
    "\n",
    "* Federico Ruggeri -> federico.ruggeri6@unibo.it\n",
    "* Eleonora Mancini -> e.mancini@unibo.it\n",
    "\n",
    "Professor:\n",
    "\n",
    "* Paolo Torroni -> p.torroni@unibo.it"
   ]
  },
  {
   "cell_type": "markdown",
   "metadata": {
    "id": "M5DpJrkwPWgv"
   },
   "source": [
    "# Introduction\n",
    "\n",
    "You are tasked to address the task of POS tagging.\n",
    "\n",
    "<center>\n",
    "    <img src=\"images/pos_tagging.png\" alt=\"POS tagging\" />\n",
    "</center>"
   ]
  },
  {
   "cell_type": "code",
   "execution_count": 35,
   "metadata": {
    "id": "YqCsaSYMRAN1"
   },
   "outputs": [],
   "source": [
    "import pandas as pd\n",
    "import torch.nn as nn\n",
    "import torch.nn.functional as F\n",
    "from torch import zeros\n",
    "import torch\n",
    "import torchtext\n",
    "from torchtext.vocab import GloVe\n",
    "import time\n",
    "from sklearn.metrics import precision_score, recall_score, f1_score, accuracy_score\n",
    "from torchtext.data.utils import get_tokenizer\n",
    "import numpy as np\n",
    "from sys import stdout\n",
    "from typing import Tuple\n",
    "import matplotlib.pyplot as plt\n",
    "flush, write = stdout.flush , stdout.write"
   ]
  },
  {
   "cell_type": "markdown",
   "metadata": {
    "id": "m6UV8pgMPWgw"
   },
   "source": [
    "# [Task 1 - 0.5 points] Corpus\n",
    "\n",
    "You are going to work with the [Penn TreeBank corpus](https://raw.githubusercontent.com/nltk/nltk_data/gh-pages/packages/corpora/dependency_treebank.zip).\n",
    "\n",
    "**Ignore** the numeric value in the third column, use **only** the words/symbols and their POS label.\n",
    "\n",
    "### Example\n",
    "\n",
    "```Pierre\tNNP\t2\n",
    "Vinken\tNNP\t8\n",
    ",\t,\t2\n",
    "61\tCD\t5\n",
    "years\tNNS\t6\n",
    "old\tJJ\t2\n",
    ",\t,\t2\n",
    "will\tMD\t0\n",
    "join\tVB\t8\n",
    "the\tDT\t11\n",
    "board\tNN\t9\n",
    "as\tIN\t9\n",
    "a\tDT\t15\n",
    "nonexecutive\tJJ\t15\n",
    "director\tNN\t12\n",
    "Nov.\tNNP\t9\n",
    "29\tCD\t16\n",
    ".\t.\t8\n",
    "```"
   ]
  },
  {
   "cell_type": "markdown",
   "metadata": {
    "id": "Evf0B3k4Q20o"
   },
   "source": [
    "### Dataset download"
   ]
  },
  {
   "cell_type": "code",
   "execution_count": 36,
   "metadata": {
    "colab": {
     "base_uri": "https://localhost:8080/"
    },
    "id": "DAoEoejnQVc8",
    "outputId": "fda7b774-84ae-4230-ba67-27df9b65046e"
   },
   "outputs": [
    {
     "name": "stdout",
     "output_type": "stream",
     "text": [
      "  % Total    % Received % Xferd  Average Speed   Time    Time     Time  Current\n",
      "                                 Dload  Upload   Total   Spent    Left  Speed\n",
      "100  446k  100  446k    0     0   572k      0 --:--:-- --:--:-- --:--:--  571k\n",
      "Archive:  dependency_treebank.zip\n",
      "  inflating: dependency_treebank/wsj_0093.dp  \n",
      "  inflating: dependency_treebank/wsj_0065.dp  \n",
      "  inflating: dependency_treebank/wsj_0039.dp  \n",
      "  inflating: dependency_treebank/wsj_0182.dp  \n",
      "  inflating: dependency_treebank/wsj_0186.dp  \n",
      "  inflating: dependency_treebank/wsj_0041.dp  \n",
      "  inflating: dependency_treebank/wsj_0018.dp  \n",
      "  inflating: dependency_treebank/wsj_0105.dp  \n",
      "  inflating: dependency_treebank/wsj_0149.dp  \n",
      "  inflating: dependency_treebank/wsj_0194.dp  \n",
      "  inflating: dependency_treebank/wsj_0055.dp  \n",
      "  inflating: dependency_treebank/wsj_0187.dp  \n",
      "  inflating: dependency_treebank/wsj_0143.dp  \n",
      "  inflating: dependency_treebank/wsj_0052.dp  \n",
      "  inflating: dependency_treebank/wsj_0064.dp  \n",
      "  inflating: dependency_treebank/wsj_0179.dp  \n",
      "  inflating: dependency_treebank/wsj_0195.dp  \n",
      "  inflating: dependency_treebank/wsj_0051.dp  \n",
      "  inflating: dependency_treebank/wsj_0059.dp  \n",
      "  inflating: dependency_treebank/wsj_0109.dp  \n",
      "  inflating: dependency_treebank/wsj_0074.dp  \n",
      "  inflating: dependency_treebank/wsj_0089.dp  \n",
      "  inflating: dependency_treebank/wsj_0108.dp  \n",
      "  inflating: dependency_treebank/wsj_0104.dp  \n",
      "  inflating: dependency_treebank/wsj_0164.dp  \n",
      "  inflating: dependency_treebank/wsj_0024.dp  \n",
      "  inflating: dependency_treebank/wsj_0008.dp  \n",
      "  inflating: dependency_treebank/wsj_0101.dp  \n",
      "  inflating: dependency_treebank/wsj_0132.dp  \n",
      "  inflating: dependency_treebank/wsj_0028.dp  \n",
      "  inflating: dependency_treebank/wsj_0184.dp  \n",
      "  inflating: dependency_treebank/wsj_0082.dp  \n",
      "  inflating: dependency_treebank/wsj_0114.dp  \n",
      "  inflating: dependency_treebank/wsj_0061.dp  \n",
      "  inflating: dependency_treebank/wsj_0190.dp  \n",
      "  inflating: dependency_treebank/wsj_0034.dp  \n",
      "  inflating: dependency_treebank/wsj_0043.dp  \n",
      "  inflating: dependency_treebank/wsj_0044.dp  \n",
      "  inflating: dependency_treebank/wsj_0021.dp  \n",
      "  inflating: dependency_treebank/wsj_0005.dp  \n",
      "  inflating: dependency_treebank/wsj_0112.dp  \n",
      "  inflating: dependency_treebank/wsj_0167.dp  \n",
      "  inflating: dependency_treebank/wsj_0042.dp  \n",
      "  inflating: dependency_treebank/wsj_0168.dp  \n",
      "  inflating: dependency_treebank/wsj_0185.dp  \n",
      "  inflating: dependency_treebank/wsj_0057.dp  \n",
      "  inflating: dependency_treebank/wsj_0015.dp  \n",
      "  inflating: dependency_treebank/wsj_0116.dp  \n",
      "  inflating: dependency_treebank/wsj_0135.dp  \n",
      "  inflating: dependency_treebank/wsj_0175.dp  \n",
      "  inflating: dependency_treebank/wsj_0171.dp  \n",
      "  inflating: dependency_treebank/wsj_0068.dp  \n",
      "  inflating: dependency_treebank/wsj_0080.dp  \n",
      "  inflating: dependency_treebank/wsj_0035.dp  \n",
      "  inflating: dependency_treebank/wsj_0181.dp  \n",
      "  inflating: dependency_treebank/wsj_0177.dp  \n",
      "  inflating: dependency_treebank/wsj_0102.dp  \n",
      "  inflating: dependency_treebank/wsj_0137.dp  \n",
      "  inflating: dependency_treebank/wsj_0022.dp  \n",
      "  inflating: dependency_treebank/wsj_0176.dp  \n",
      "  inflating: dependency_treebank/wsj_0180.dp  \n",
      "  inflating: dependency_treebank/wsj_0121.dp  \n",
      "  inflating: dependency_treebank/wsj_0128.dp  \n",
      "  inflating: dependency_treebank/wsj_0036.dp  \n",
      "  inflating: dependency_treebank/wsj_0071.dp  \n",
      "  inflating: dependency_treebank/wsj_0091.dp  \n",
      "  inflating: dependency_treebank/wsj_0076.dp  \n",
      "  inflating: dependency_treebank/wsj_0123.dp  \n",
      "  inflating: dependency_treebank/wsj_0075.dp  \n",
      "  inflating: dependency_treebank/wsj_0131.dp  \n",
      "  inflating: dependency_treebank/wsj_0050.dp  \n",
      "  inflating: dependency_treebank/wsj_0136.dp  \n",
      "  inflating: dependency_treebank/wsj_0161.dp  \n",
      "  inflating: dependency_treebank/wsj_0033.dp  \n",
      "  inflating: dependency_treebank/wsj_0188.dp  \n",
      "  inflating: dependency_treebank/wsj_0085.dp  \n",
      "  inflating: dependency_treebank/wsj_0014.dp  \n",
      "  inflating: dependency_treebank/wsj_0073.dp  \n",
      "  inflating: dependency_treebank/wsj_0199.dp  \n",
      "  inflating: dependency_treebank/wsj_0120.dp  \n",
      "  inflating: dependency_treebank/wsj_0178.dp  \n",
      "  inflating: dependency_treebank/wsj_0122.dp  \n",
      "  inflating: dependency_treebank/wsj_0040.dp  \n",
      "  inflating: dependency_treebank/wsj_0020.dp  \n",
      "  inflating: dependency_treebank/wsj_0153.dp  \n",
      "  inflating: dependency_treebank/wsj_0107.dp  \n",
      "  inflating: dependency_treebank/wsj_0017.dp  \n",
      "  inflating: dependency_treebank/wsj_0140.dp  \n",
      "  inflating: dependency_treebank/wsj_0038.dp  \n",
      "  inflating: dependency_treebank/wsj_0031.dp  \n",
      "  inflating: dependency_treebank/wsj_0165.dp  \n",
      "  inflating: dependency_treebank/wsj_0146.dp  \n",
      "  inflating: dependency_treebank/wsj_0090.dp  \n",
      "  inflating: dependency_treebank/wsj_0001.dp  \n",
      "  inflating: dependency_treebank/wsj_0148.dp  \n",
      "  inflating: dependency_treebank/wsj_0097.dp  \n",
      "  inflating: dependency_treebank/wsj_0009.dp  \n",
      "  inflating: dependency_treebank/wsj_0173.dp  \n",
      "  inflating: dependency_treebank/wsj_0111.dp  \n",
      "  inflating: dependency_treebank/wsj_0129.dp  \n",
      "  inflating: dependency_treebank/wsj_0130.dp  \n",
      "  inflating: dependency_treebank/wsj_0047.dp  \n",
      "  inflating: dependency_treebank/wsj_0110.dp  \n",
      "  inflating: dependency_treebank/wsj_0113.dp  \n",
      "  inflating: dependency_treebank/wsj_0147.dp  \n",
      "  inflating: dependency_treebank/wsj_0160.dp  \n",
      "  inflating: dependency_treebank/wsj_0099.dp  \n",
      "  inflating: dependency_treebank/wsj_0003.dp  \n",
      "  inflating: dependency_treebank/wsj_0011.dp  \n",
      "  inflating: dependency_treebank/wsj_0056.dp  \n",
      "  inflating: dependency_treebank/wsj_0069.dp  \n",
      "  inflating: dependency_treebank/wsj_0026.dp  \n",
      "  inflating: dependency_treebank/wsj_0138.dp  \n",
      "  inflating: dependency_treebank/wsj_0029.dp  \n",
      "  inflating: dependency_treebank/wsj_0115.dp  \n",
      "  inflating: dependency_treebank/wsj_0037.dp  \n",
      "  inflating: dependency_treebank/wsj_0019.dp  \n",
      "  inflating: dependency_treebank/wsj_0002.dp  \n",
      "  inflating: dependency_treebank/wsj_0007.dp  \n",
      "  inflating: dependency_treebank/wsj_0158.dp  \n",
      "  inflating: dependency_treebank/wsj_0087.dp  \n",
      "  inflating: dependency_treebank/wsj_0157.dp  \n",
      "  inflating: dependency_treebank/wsj_0083.dp  \n",
      "  inflating: dependency_treebank/wsj_0103.dp  \n",
      "  inflating: dependency_treebank/wsj_0058.dp  \n",
      "  inflating: dependency_treebank/wsj_0054.dp  \n",
      "  inflating: dependency_treebank/wsj_0016.dp  \n",
      "  inflating: dependency_treebank/wsj_0126.dp  \n",
      "  inflating: dependency_treebank/wsj_0198.dp  \n",
      "  inflating: dependency_treebank/wsj_0144.dp  \n",
      "  inflating: dependency_treebank/wsj_0096.dp  \n",
      "  inflating: dependency_treebank/wsj_0086.dp  \n",
      "  inflating: dependency_treebank/wsj_0197.dp  \n",
      "  inflating: dependency_treebank/wsj_0025.dp  \n",
      "  inflating: dependency_treebank/wsj_0100.dp  \n",
      "  inflating: dependency_treebank/wsj_0084.dp  \n",
      "  inflating: dependency_treebank/wsj_0098.dp  \n",
      "  inflating: dependency_treebank/wsj_0106.dp  \n",
      "  inflating: dependency_treebank/wsj_0119.dp  \n",
      "  inflating: dependency_treebank/wsj_0092.dp  \n",
      "  inflating: dependency_treebank/wsj_0134.dp  \n",
      "  inflating: dependency_treebank/wsj_0077.dp  \n",
      "  inflating: dependency_treebank/wsj_0060.dp  \n",
      "  inflating: dependency_treebank/wsj_0172.dp  \n",
      "  inflating: dependency_treebank/wsj_0048.dp  \n",
      "  inflating: dependency_treebank/wsj_0030.dp  \n",
      "  inflating: dependency_treebank/wsj_0192.dp  \n",
      "  inflating: dependency_treebank/wsj_0066.dp  \n",
      "  inflating: dependency_treebank/wsj_0045.dp  \n",
      "  inflating: dependency_treebank/wsj_0155.dp  \n",
      "  inflating: dependency_treebank/wsj_0118.dp  \n",
      "  inflating: dependency_treebank/wsj_0152.dp  \n",
      "  inflating: dependency_treebank/wsj_0012.dp  \n",
      "  inflating: dependency_treebank/wsj_0006.dp  \n",
      "  inflating: dependency_treebank/wsj_0159.dp  \n",
      "  inflating: dependency_treebank/wsj_0163.dp  \n",
      "  inflating: dependency_treebank/wsj_0170.dp  \n",
      "  inflating: dependency_treebank/wsj_0141.dp  \n",
      "  inflating: dependency_treebank/wsj_0117.dp  \n",
      "  inflating: dependency_treebank/wsj_0125.dp  \n",
      "  inflating: dependency_treebank/wsj_0094.dp  \n",
      "  inflating: dependency_treebank/wsj_0169.dp  \n",
      "  inflating: dependency_treebank/wsj_0027.dp  \n",
      "  inflating: dependency_treebank/wsj_0010.dp  \n",
      "  inflating: dependency_treebank/wsj_0162.dp  \n",
      "  inflating: dependency_treebank/wsj_0127.dp  \n",
      "  inflating: dependency_treebank/wsj_0142.dp  \n",
      "  inflating: dependency_treebank/wsj_0046.dp  \n",
      "  inflating: dependency_treebank/wsj_0088.dp  \n",
      "  inflating: dependency_treebank/wsj_0079.dp  \n",
      "  inflating: dependency_treebank/wsj_0174.dp  \n",
      "  inflating: dependency_treebank/wsj_0063.dp  \n",
      "  inflating: dependency_treebank/wsj_0023.dp  \n",
      "  inflating: dependency_treebank/wsj_0004.dp  \n",
      "  inflating: dependency_treebank/wsj_0156.dp  \n",
      "  inflating: dependency_treebank/wsj_0133.dp  \n",
      "  inflating: dependency_treebank/wsj_0032.dp  \n",
      "  inflating: dependency_treebank/wsj_0070.dp  \n",
      "  inflating: dependency_treebank/wsj_0154.dp  \n",
      "  inflating: dependency_treebank/wsj_0095.dp  \n",
      "  inflating: dependency_treebank/wsj_0072.dp  \n",
      "  inflating: dependency_treebank/wsj_0183.dp  \n",
      "  inflating: dependency_treebank/wsj_0081.dp  \n",
      "  inflating: dependency_treebank/wsj_0196.dp  \n",
      "  inflating: dependency_treebank/wsj_0062.dp  \n",
      "  inflating: dependency_treebank/wsj_0124.dp  \n",
      "  inflating: dependency_treebank/wsj_0191.dp  \n",
      "  inflating: dependency_treebank/wsj_0013.dp  \n",
      "  inflating: dependency_treebank/wsj_0078.dp  \n",
      "  inflating: dependency_treebank/wsj_0150.dp  \n",
      "  inflating: dependency_treebank/wsj_0049.dp  \n",
      "  inflating: dependency_treebank/wsj_0189.dp  \n",
      "  inflating: dependency_treebank/wsj_0151.dp  \n",
      "  inflating: dependency_treebank/wsj_0193.dp  \n",
      "  inflating: dependency_treebank/wsj_0067.dp  \n",
      "  inflating: dependency_treebank/wsj_0145.dp  \n",
      "  inflating: dependency_treebank/wsj_0139.dp  \n",
      "  inflating: dependency_treebank/wsj_0166.dp  \n",
      "  inflating: dependency_treebank/wsj_0053.dp  \n"
     ]
    }
   ],
   "source": [
    "!curl -O https://raw.githubusercontent.com/nltk/nltk_data/gh-pages/packages/corpora/dependency_treebank.zip\n",
    "!unzip -o dependency_treebank.zip"
   ]
  },
  {
   "cell_type": "markdown",
   "metadata": {
    "id": "JkhLvBtRPWgw"
   },
   "source": [
    "### Splits\n",
    "\n",
    "The corpus contains 200 documents.\n",
    "\n",
    "   * **Train**: Documents 1-100\n",
    "   * **Validation**: Documents 101-150\n",
    "   * **Test**: Documents 151-199"
   ]
  },
  {
   "cell_type": "markdown",
   "metadata": {
    "id": "MtoJ6bs_RBnk"
   },
   "source": [
    "### Dataset import"
   ]
  },
  {
   "cell_type": "code",
   "execution_count": 37,
   "metadata": {
    "id": "etSG9VDOTq7G"
   },
   "outputs": [],
   "source": [
    "def pad(x, tot_len, pad_val):\n",
    "  l = len(x)\n",
    "  return ''.join([pad_val for _ in range(tot_len - l)]) + x"
   ]
  },
  {
   "cell_type": "code",
   "execution_count": 38,
   "metadata": {
    "id": "LCRhF-RDVrOw"
   },
   "outputs": [],
   "source": [
    "def import_corpus(folder:'str', file_base:'str', corpus_range:'range', separator:'str', data:'object'):\n",
    "  keys = list(data.keys())\n",
    "  data_len = len(keys)\n",
    "  data['source file'] = []\n",
    "  for i in corpus_range:\n",
    "    f = open(f'{folder}/{file_base}{pad(str(i), 4, \"0\")}.dp')\n",
    "    for line in f.readlines():\n",
    "      entry = line.replace('\\n','').split(separator)\n",
    "      if len(entry) >= data_len:\n",
    "        for j in range(data_len):\n",
    "            data[keys[j]].append(entry[j])\n",
    "        data['source file'].append(f'{file_base}{pad(str(i), 4, \"0\")}')\n",
    "    f.close()\n",
    "  return data"
   ]
  },
  {
   "cell_type": "code",
   "execution_count": 39,
   "metadata": {
    "colab": {
     "base_uri": "https://localhost:8080/",
     "height": 424
    },
    "id": "8nnJIIQITbFq",
    "outputId": "cefe4faa-8e8b-44f6-96c4-51dd7baccee6"
   },
   "outputs": [
    {
     "data": {
      "text/html": [
       "<div>\n",
       "<style scoped>\n",
       "    .dataframe tbody tr th:only-of-type {\n",
       "        vertical-align: middle;\n",
       "    }\n",
       "\n",
       "    .dataframe tbody tr th {\n",
       "        vertical-align: top;\n",
       "    }\n",
       "\n",
       "    .dataframe thead th {\n",
       "        text-align: right;\n",
       "    }\n",
       "</style>\n",
       "<table border=\"1\" class=\"dataframe\">\n",
       "  <thead>\n",
       "    <tr style=\"text-align: right;\">\n",
       "      <th></th>\n",
       "      <th>word/symbol</th>\n",
       "      <th>pos label</th>\n",
       "      <th>source file</th>\n",
       "    </tr>\n",
       "  </thead>\n",
       "  <tbody>\n",
       "    <tr>\n",
       "      <th>0</th>\n",
       "      <td>Pierre</td>\n",
       "      <td>NNP</td>\n",
       "      <td>wsj_0001</td>\n",
       "    </tr>\n",
       "    <tr>\n",
       "      <th>1</th>\n",
       "      <td>Vinken</td>\n",
       "      <td>NNP</td>\n",
       "      <td>wsj_0001</td>\n",
       "    </tr>\n",
       "    <tr>\n",
       "      <th>2</th>\n",
       "      <td>,</td>\n",
       "      <td>,</td>\n",
       "      <td>wsj_0001</td>\n",
       "    </tr>\n",
       "    <tr>\n",
       "      <th>3</th>\n",
       "      <td>61</td>\n",
       "      <td>CD</td>\n",
       "      <td>wsj_0001</td>\n",
       "    </tr>\n",
       "    <tr>\n",
       "      <th>4</th>\n",
       "      <td>years</td>\n",
       "      <td>NNS</td>\n",
       "      <td>wsj_0001</td>\n",
       "    </tr>\n",
       "    <tr>\n",
       "      <th>...</th>\n",
       "      <td>...</td>\n",
       "      <td>...</td>\n",
       "      <td>...</td>\n",
       "    </tr>\n",
       "    <tr>\n",
       "      <th>47351</th>\n",
       "      <td>challenge</td>\n",
       "      <td>NN</td>\n",
       "      <td>wsj_0100</td>\n",
       "    </tr>\n",
       "    <tr>\n",
       "      <th>47352</th>\n",
       "      <td>he</td>\n",
       "      <td>PRP</td>\n",
       "      <td>wsj_0100</td>\n",
       "    </tr>\n",
       "    <tr>\n",
       "      <th>47353</th>\n",
       "      <td>has</td>\n",
       "      <td>VBZ</td>\n",
       "      <td>wsj_0100</td>\n",
       "    </tr>\n",
       "    <tr>\n",
       "      <th>47354</th>\n",
       "      <td>faced</td>\n",
       "      <td>VBN</td>\n",
       "      <td>wsj_0100</td>\n",
       "    </tr>\n",
       "    <tr>\n",
       "      <th>47355</th>\n",
       "      <td>.</td>\n",
       "      <td>.</td>\n",
       "      <td>wsj_0100</td>\n",
       "    </tr>\n",
       "  </tbody>\n",
       "</table>\n",
       "<p>47356 rows × 3 columns</p>\n",
       "</div>"
      ],
      "text/plain": [
       "      word/symbol pos label source file\n",
       "0          Pierre       NNP    wsj_0001\n",
       "1          Vinken       NNP    wsj_0001\n",
       "2               ,         ,    wsj_0001\n",
       "3              61        CD    wsj_0001\n",
       "4           years       NNS    wsj_0001\n",
       "...           ...       ...         ...\n",
       "47351   challenge        NN    wsj_0100\n",
       "47352          he       PRP    wsj_0100\n",
       "47353         has       VBZ    wsj_0100\n",
       "47354       faced       VBN    wsj_0100\n",
       "47355           .         .    wsj_0100\n",
       "\n",
       "[47356 rows x 3 columns]"
      ]
     },
     "execution_count": 39,
     "metadata": {},
     "output_type": "execute_result"
    }
   ],
   "source": [
    "SEPARATOR = '\\t'\n",
    "folder = 'dependency_treebank'\n",
    "file_base = 'wsj_'\n",
    "\n",
    "train_data = pd.DataFrame(import_corpus(folder, file_base, range(1,101), SEPARATOR, {'word/symbol':[], 'pos label':[]}))\n",
    "validation_data = pd.DataFrame(import_corpus(folder, file_base, range(101,151), SEPARATOR, {'word/symbol':[], 'pos label':[]}))\n",
    "test_data = pd.DataFrame(import_corpus(folder, file_base, range(151,200), SEPARATOR, {'word/symbol':[], 'pos label':[]}))\n",
    "train_data"
   ]
  },
  {
   "cell_type": "markdown",
   "metadata": {
    "id": "WveiIg-UPWgx"
   },
   "source": [
    "### Instructions\n",
    "\n",
    "* **Download** the corpus.\n",
    "* **Encode** the corpus into a pandas.DataFrame object.\n",
    "* **Split** it in training, validation, and test sets."
   ]
  },
  {
   "cell_type": "markdown",
   "metadata": {
    "id": "Mhiw3MBkPWgx"
   },
   "source": [
    "# [Task 2 - 0.5 points] Text encoding\n",
    "\n",
    "To train a neural POS tagger, you first need to encode text into numerical format."
   ]
  },
  {
   "cell_type": "markdown",
   "metadata": {
    "id": "TuqriwPkPWgx"
   },
   "source": [
    "### Instructions\n",
    "\n",
    "* Embed words using **GloVe embeddings**.\n",
    "* You are **free** to pick any embedding dimension.\n",
    "* [Optional] You are free to experiment with text pre-processing: **make sure you do not delete any token!**"
   ]
  },
  {
   "cell_type": "code",
   "execution_count": 40,
   "metadata": {
    "colab": {
     "base_uri": "https://localhost:8080/"
    },
    "id": "Zv4zgrWuTvUY",
    "outputId": "e8e03aef-c2b2-457b-e085-e1698ee94171"
   },
   "outputs": [],
   "source": [
    "glove = GloVe(name='6B', dim=100)"
   ]
  },
  {
   "cell_type": "code",
   "execution_count": 41,
   "metadata": {
    "colab": {
     "base_uri": "https://localhost:8080/"
    },
    "id": "8KFWwF1YUKkG",
    "outputId": "797ccd80-cec5-48e3-c731-6ec094abbb17"
   },
   "outputs": [
    {
     "name": "stdout",
     "output_type": "stream",
     "text": [
      "word at position 50: director\n",
      "embedding: \n",
      " tensor([ 2.6554e-01, -7.8286e-01, -8.8447e-02, -1.0131e+00,  9.9533e-01,\n",
      "        -9.4081e-01, -3.6870e-01,  3.3595e-01, -6.6131e-01,  1.8660e-02,\n",
      "        -1.0583e-01, -5.0757e-01,  4.3957e-01,  1.1668e-01,  6.8358e-03,\n",
      "        -1.6246e-01,  8.3221e-01, -2.9842e-02, -5.8107e-01,  5.9797e-01,\n",
      "        -3.4653e-01,  3.3801e-01,  8.3349e-02, -3.3689e-01, -1.5555e-01,\n",
      "         3.0370e-01,  3.6218e-01, -4.9779e-01, -1.0420e-01,  2.3055e-01,\n",
      "        -9.2252e-01,  6.0625e-01, -3.4707e-01,  3.9155e-01, -1.1208e+00,\n",
      "        -5.4766e-02,  9.1888e-02,  1.3057e+00,  1.7112e-01, -4.7524e-01,\n",
      "        -3.8920e-01, -6.1009e-02, -6.0362e-01,  4.8490e-01,  8.2905e-01,\n",
      "         1.9803e-01, -7.3324e-01, -5.5246e-01, -4.6930e-01, -1.7326e-01,\n",
      "         2.5662e-01, -1.0521e+00, -3.2560e-01,  1.3647e-01,  1.2832e-01,\n",
      "        -2.4086e+00, -2.8245e-01,  7.1802e-01,  8.7841e-01,  7.1353e-02,\n",
      "         5.3584e-01,  5.7417e-01,  5.6343e-01, -1.2018e-01,  5.0456e-01,\n",
      "        -6.1081e-01,  4.9771e-01,  1.2290e+00,  7.7136e-01,  1.2948e+00,\n",
      "         7.4913e-01,  1.6564e-01, -2.8906e-01, -5.0207e-01,  3.1034e-01,\n",
      "        -8.0094e-01, -7.7947e-01,  2.1794e-01, -1.0672e+00, -2.2227e-01,\n",
      "         3.4507e-01, -1.3336e-01, -5.8961e-02,  2.1234e-01, -1.4277e+00,\n",
      "         7.4573e-02, -3.1233e-01, -5.3944e-04,  1.5698e-01, -1.0382e+00,\n",
      "         9.8328e-01, -5.9559e-01,  4.3997e-01,  5.5026e-01,  3.6462e-01,\n",
      "         8.4136e-01, -1.4328e-03, -2.4872e-01, -1.0055e-01,  9.5509e-02])\n"
     ]
    }
   ],
   "source": [
    "i = 50\n",
    "word = train_data.iloc[i][\"word/symbol\"]\n",
    "print(f\"word at position {i}: {word}\")\n",
    "print(f'embedding: \\n {glove[word]}')"
   ]
  },
  {
   "cell_type": "markdown",
   "metadata": {
    "id": "fF6zaZQl2aDd"
   },
   "source": [
    "## Useful classes"
   ]
  },
  {
   "cell_type": "markdown",
   "metadata": {
    "id": "Cpf8ylTl2eMz"
   },
   "source": [
    "### Dataset\n",
    "it is a usefull class that helps creating a dataloader which is very usefull for training a network since it automatically manages batches"
   ]
  },
  {
   "cell_type": "code",
   "execution_count": 42,
   "metadata": {
    "id": "SDdt_6ytPtLc"
   },
   "outputs": [],
   "source": [
    "class Dataset(torch.utils.data.Dataset):\n",
    "    def __init__(self, x, y):\n",
    "        self.x = x\n",
    "        self.y = y\n",
    "\n",
    "    def __len__(self):\n",
    "        return len(self.x)\n",
    "\n",
    "    def __getitem__(self, idx):\n",
    "        return self.x[idx], self.y[idx]"
   ]
  },
  {
   "cell_type": "markdown",
   "metadata": {
    "id": "MsNOjTC02-qZ"
   },
   "source": [
    "### Vocabulary\n",
    "It is a class that really helps with managing the words in our dataset. it creates 3 structures:\n",
    "  - `word2idx` which is a dictionary that maps every word to the corresponding token.\n",
    "  - `idx2word` which is a list that works as the inverse function to `word2idx` mapping back every token to the corresponding word.\n",
    "  - `vectors` which is a list that maps every token to the corresponding embedding vector. If no embedding vector has been given for the corresponding word, the vectors list will return a 0 tensor.\n",
    "\n",
    "In addition, the `length` variable will contains the length of the embedding vectors and `dim` will contains the size of the vocabulary."
   ]
  },
  {
   "cell_type": "code",
   "execution_count": 43,
   "metadata": {
    "id": "5ovAQ8a33uFU"
   },
   "outputs": [],
   "source": [
    "class Vocabulary:\n",
    "  \"\"\"\n",
    "  A class containing all the words used in the training.\n",
    "\n",
    "  Attributes\n",
    "  ----------\n",
    "  word2idx : Dict\n",
    "    Maps every word to the corresponding token.\n",
    "  idx2word : List[str]\n",
    "    Works as the inverse function to `word2idx` mapping back every token to the corresponding word.\n",
    "  vectors : list[torch.Tensor]\n",
    "    maps every token to the corresponding embedding vector. If no embedding vector has been given for the corresponding word, the vectors list will return a 0 tensor.\n",
    "  length : int\n",
    "    contains the length of the embedding vectors.\n",
    "  dim : int\n",
    "    contains the size of the vocabulary.\n",
    "  \"\"\"\n",
    "  def __init__(self,\n",
    "               words:'list[str]',\n",
    "               pretrained_vectors: 'torchtext.vocab.Vectors' = None,\n",
    "               specials:'list[str]' = ['<unk>', '<pad>'],\n",
    "               vectors_length:'int' = -1) -> None:\n",
    "    \"\"\"\n",
    "    Parameters\n",
    "    ----------\n",
    "    words: list[str]\n",
    "      The unique words contained in the vocabulary\n",
    "    pretrained_vectors: torchtext.vocab.Vectors\n",
    "      the pretrained embedding containing the Tensors that will be used for the embedding. If there are words included in this class not included in the `words` list they will be added to the vocabulary too.\n",
    "      It can be None but, in this case, a 0 Tensor will be created for the embedding. In the case this value is None, the `vectors_length` is mandatory.\n",
    "    specials: list[str]\n",
    "      A list that contains the special tokens that will be added to the vocabulary. This token will be the first tokens in the resulting list.\n",
    "    vectors_length: int\n",
    "      This parameter is mandatory only if the `pretrained_vectors` parameter is None. It represent the length of each Tensor used in the embedding.\n",
    "    \"\"\"\n",
    "    self.__word2idx = {}\n",
    "    self.idx2word = []\n",
    "    self.vectors = []\n",
    "\n",
    "    self.pre_trained = pretrained_vectors != None\n",
    "\n",
    "    pre_keys = []\n",
    "    pre_vectors = {}\n",
    "\n",
    "    if self.pre_trained:\n",
    "      pre_keys = pretrained_vectors.stoi.keys()\n",
    "      pre_vectors = pretrained_vectors\n",
    "\n",
    "    self.length = vectors_length\n",
    "    if self.pre_trained:\n",
    "      self.length = len(pretrained_vectors.vectors[0])\n",
    "      if vectors_length != -1 and self.length != vectors_length:\n",
    "        raise Exception(f\"vectors_length {vectors_length} incompatible with length of pretrained_vectors {self.length}. Consider removing the vector length property\")\n",
    "    if self.length == -1:\n",
    "      raise Exception(\"either a the pretrained_vectors or the vectors_length properties should be provided\")\n",
    "\n",
    "    idx = 0\n",
    "\n",
    "    for word in specials:\n",
    "      self.__add_word(word, idx, pre_keys, pre_vectors)\n",
    "      idx += 1\n",
    "\n",
    "    for word in pre_keys:\n",
    "      self.__add_word(word, idx, pre_keys, pre_vectors)\n",
    "      idx += 1\n",
    "\n",
    "    for word in words:\n",
    "      if not word in self.__word2idx:\n",
    "        self.__add_word(word, idx, pre_keys, pre_vectors)\n",
    "        idx += 1\n",
    "\n",
    "    self.dim = idx\n",
    "    self.vectors = torch.stack(self.vectors)\n",
    "\n",
    "  def word2idx(self, word):\n",
    "    if word in self.__word2idx:\n",
    "      return self.__word2idx[word]\n",
    "    return self.__word2idx['<unk>']\n",
    "\n",
    "  def __add_word(self, word:'str', idx:'int', pre_keys:'list', pre_vectors: 'dict') -> None:\n",
    "      self.__word2idx[word] = idx\n",
    "      self.idx2word.append(word)\n",
    "      self.vectors.append(pre_vectors[word] if word in pre_keys else zeros(self.length))"
   ]
  },
  {
   "cell_type": "code",
   "execution_count": 44,
   "metadata": {
    "id": "ujVbEWbDVTk_"
   },
   "outputs": [],
   "source": [
    "vocabulary = Vocabulary(np.unique(train_data['word/symbol']), glove)"
   ]
  },
  {
   "cell_type": "code",
   "execution_count": 45,
   "metadata": {
    "colab": {
     "base_uri": "https://localhost:8080/"
    },
    "id": "UeOkToIgXNdA",
    "outputId": "90461b15-6dff-487f-b32b-957104411ba4"
   },
   "outputs": [
    {
     "name": "stdout",
     "output_type": "stream",
     "text": [
      "13077\n",
      "hello\n",
      "tensor([ 0.2669,  0.3963,  0.6169, -0.7745, -0.1039,  0.2670,  0.2788,  0.3099,\n",
      "         0.0055, -0.0853,  0.7360, -0.0984,  0.5479, -0.0303,  0.3348,  0.1409,\n",
      "        -0.0070,  0.3257,  0.2290,  0.4656, -0.1953,  0.3749, -0.7139, -0.5178,\n",
      "         0.7704,  1.0881, -0.6601, -0.1623,  0.9119,  0.2105,  0.0475,  1.0019,\n",
      "         1.1133,  0.7009, -0.0870,  0.4757,  0.1636, -0.4447,  0.4469, -0.9382,\n",
      "         0.0131,  0.0860, -0.6746,  0.4966, -0.0378, -0.1104, -0.2861,  0.0746,\n",
      "        -0.3153, -0.0938, -0.5707,  0.6686,  0.4531, -0.3415, -0.7166, -0.7527,\n",
      "         0.0752,  0.5790, -0.1191, -0.1138, -0.1003,  0.7134, -1.1574, -0.7403,\n",
      "         0.4045,  0.1802,  0.2145,  0.3764,  0.1124, -0.5364, -0.0251,  0.3189,\n",
      "        -0.2501, -0.6328, -0.0118,  1.3770,  0.8601,  0.2048, -0.3681, -0.6887,\n",
      "         0.5351, -0.4656,  0.2739,  0.4118, -0.8540, -0.0463,  0.1130, -0.2733,\n",
      "         0.1564, -0.2033,  0.5359,  0.5978,  0.6047,  0.1373,  0.4223, -0.6128,\n",
      "        -0.3849,  0.3584, -0.4846,  0.3073])\n"
     ]
    }
   ],
   "source": [
    "print(vocabulary.word2idx('hello'))\n",
    "print(vocabulary.idx2word[13077])\n",
    "print(vocabulary.vectors[13077])"
   ]
  },
  {
   "cell_type": "markdown",
   "metadata": {
    "id": "i_CHOUNA8oMC"
   },
   "source": [
    "## Data pre-processing and preparation\n",
    "\n",
    "---\n",
    "\n"
   ]
  },
  {
   "cell_type": "markdown",
   "metadata": {
    "id": "J9_H2yulB7Z0"
   },
   "source": [
    "### PosEncoding\n",
    "It is a similar class to Vocabulary but for the position. It works basically the same but with the one-hot-encoding instead of the embedding."
   ]
  },
  {
   "cell_type": "code",
   "execution_count": 46,
   "metadata": {
    "id": "AXhmgSD19yGf"
   },
   "outputs": [],
   "source": [
    "class PosEncoding:\n",
    "  \"\"\"\n",
    "  A class containing all the pos values used in the training.\n",
    "\n",
    "  Attributes\n",
    "  ----------\n",
    "  pos2idx : Dict\n",
    "    Maps every pos to the corresponding token.\n",
    "  idx2pos : List[str]\n",
    "    Works as the inverse function to `pos2idx` mapping back every token to the corresponding pos.\n",
    "  encoding : list[torch.Tensor]\n",
    "    maps every pos to the corresponding one-hot-encoded vector.\n",
    "  dim : int\n",
    "    contains the size of the vocabulary.\n",
    "  \"\"\"\n",
    "  def __init__(self, pos_labels: 'list[str]', specials:'list[str]' = ['<pad>']) -> None:\n",
    "    \"\"\"\n",
    "    Parameters\n",
    "    ----------\n",
    "    pos_labels: list[str]\n",
    "      The unique words contained in the vocabulary\n",
    "    specials: list[str]\n",
    "      A list that contains the special pos that will be added to the vocabulary.\n",
    "    \"\"\"\n",
    "    self.pos2idx = {}\n",
    "    self.idx2pos = []\n",
    "    self.encoding = []\n",
    "    starting_tensor = [0 for _ in range(len(pos_labels) + len(specials))]\n",
    "    idx = 0\n",
    "\n",
    "    for pos in specials:\n",
    "      self.__add_pos(pos, idx, starting_tensor)\n",
    "      idx += 1\n",
    "\n",
    "    for pos in pos_labels:\n",
    "      self.__add_pos(pos, idx, starting_tensor)\n",
    "      idx += 1\n",
    "\n",
    "\n",
    "  def __add_pos(self, pos:'str', idx:'int', starting_tensor:'torch.Tensor'):\n",
    "    self.pos2idx[pos] = idx\n",
    "    self.idx2pos.append(pos)\n",
    "    self.encoding.append(starting_tensor.copy())\n",
    "    self.encoding[idx][idx] = 1\n"
   ]
  },
  {
   "cell_type": "markdown",
   "metadata": {
    "id": "j4KVceH88sfz"
   },
   "source": [
    "### Y encoding"
   ]
  },
  {
   "cell_type": "code",
   "execution_count": 47,
   "metadata": {
    "colab": {
     "base_uri": "https://localhost:8080/"
    },
    "id": "uGudSj4L8yS5",
    "outputId": "d38637eb-7c64-441b-eb4d-4d0755748c69"
   },
   "outputs": [
    {
     "name": "stdout",
     "output_type": "stream",
     "text": [
      "there are 45 unique pos label values: \n",
      "- #\n",
      "- $\n",
      "- ''\n",
      "- ,\n",
      "- -LRB-\n",
      "- -RRB-\n",
      "- .\n",
      "- :\n",
      "- CC\n",
      "- CD\n",
      "- DT\n",
      "- EX\n",
      "- FW\n",
      "- IN\n",
      "- JJ\n",
      "- JJR\n",
      "- JJS\n",
      "- LS\n",
      "- MD\n",
      "- NN\n",
      "- NNP\n",
      "- NNPS\n",
      "- NNS\n",
      "- PDT\n",
      "- POS\n",
      "- PRP\n",
      "- PRP$\n",
      "- RB\n",
      "- RBR\n",
      "- RBS\n",
      "- RP\n",
      "- SYM\n",
      "- TO\n",
      "- UH\n",
      "- VB\n",
      "- VBD\n",
      "- VBG\n",
      "- VBN\n",
      "- VBP\n",
      "- VBZ\n",
      "- WDT\n",
      "- WP\n",
      "- WP$\n",
      "- WRB\n",
      "- ``\n"
     ]
    }
   ],
   "source": [
    "pos_labels = np.unique(train_data['pos label'])\n",
    "number_of_pos_labels = len(pos_labels)\n",
    "print(f'there are {number_of_pos_labels} unique pos label values: ' + \"\\n- \" + \"\\n- \".join(pos_labels))"
   ]
  },
  {
   "cell_type": "code",
   "execution_count": 48,
   "metadata": {
    "id": "8eRA4uJaCLyC"
   },
   "outputs": [],
   "source": [
    "pos_encoding = PosEncoding(pos_labels)"
   ]
  },
  {
   "cell_type": "code",
   "execution_count": 49,
   "metadata": {
    "colab": {
     "base_uri": "https://localhost:8080/"
    },
    "id": "Iu9QGLrlCiYt",
    "outputId": "8cf659af-8232-4844-e130-cec9e52348b5"
   },
   "outputs": [
    {
     "name": "stdout",
     "output_type": "stream",
     "text": [
      "21\n",
      "NNP\n",
      "[0, 0, 0, 0, 0, 0, 0, 0, 0, 0, 0, 0, 0, 0, 0, 0, 0, 0, 0, 0, 0, 1, 0, 0, 0, 0, 0, 0, 0, 0, 0, 0, 0, 0, 0, 0, 0, 0, 0, 0, 0, 0, 0, 0, 0, 0]\n",
      "1\n"
     ]
    }
   ],
   "source": [
    "print(pos_encoding.pos2idx['NNP'])\n",
    "print(pos_encoding.idx2pos[21])\n",
    "print(pos_encoding.encoding[21])\n",
    "print(pos_encoding.encoding[21][21])"
   ]
  },
  {
   "cell_type": "code",
   "execution_count": 50,
   "metadata": {
    "id": "5gXfKc2TJ-pd"
   },
   "outputs": [],
   "source": [
    "def transform_data(input_data:'pd.Dataframe', vocab:'Vocabulary', encoding:'PosEncoding', sentence_split:'bool'=True) -> Tuple[torch.Tensor, torch.Tensor]:\n",
    "  \"\"\"\n",
    "    A function that returns a tuple containing two Tensor, the first containg the tokenized words of the dataframe, the second containing the encoded labels of the dataframe.\n",
    "    Parameters\n",
    "    ----------\n",
    "    input_data: pd.Dataframe\n",
    "      The dataframe containing the data to transform. The value of the words will be checked in the 'word/symbol' column while the label will be cheked in the pos label one. If the sentence_split parameter is false, the elements will be grouped by the source file column.\n",
    "    vocab: Vocabulary\n",
    "      The vocabulary used to tokenize the words.\n",
    "    encoding: PosEncoding\n",
    "      The encoding of the labels.\n",
    "    sentence_split: bool\n",
    "      It tells how to split the sentences: if tru, they will be split by the '.' token, if false they will be split by the source file.\n",
    "  \"\"\"\n",
    "  if sentence_split:\n",
    "    return transform_data_by_sentences(input_data, vocab, encoding)\n",
    "  return transform_data_by_files(input_data, vocab, encoding)\n",
    "\n",
    "def tail_pad(x, tot_len, pad_element):\n",
    "  l = len(x)\n",
    "  return x + [pad_element for _ in range(tot_len - l)]\n",
    "\n",
    "def transform_data_by_sentences(input_data:'pd.Dataframe', vocab:'Vocabulary', encoding:'PosEncoding') -> Tuple[torch.Tensor, torch.Tensor]:\n",
    "  out_lists_x = [[]]\n",
    "  out_lists_y = [[]]\n",
    "  idx = 0\n",
    "  for i in range(input_data.shape[0]):\n",
    "    row = input_data.iloc[i, :]\n",
    "    out_lists_x[idx].append(row['word/symbol'])\n",
    "    out_lists_y[idx].append(row['pos label'])\n",
    "    if row['word/symbol'] == '.':\n",
    "      out_lists_x.append([])\n",
    "      out_lists_y.append([])\n",
    "      idx += 1\n",
    "  max_len = 0\n",
    "  for sentence in out_lists_x:\n",
    "    if len(sentence) > max_len:\n",
    "      max_len = len(sentence)\n",
    "  for i in range(len(out_lists_x)):\n",
    "    out_lists_x[i] = tail_pad(out_lists_x[i], max_len, '<pad>')\n",
    "    out_lists_y[i] = tail_pad(out_lists_y[i], max_len, '<pad>')\n",
    "    token_words = []\n",
    "    for word in out_lists_x[i]:\n",
    "      token_words.append(vocab.word2idx(word))\n",
    "    encoded_y = []\n",
    "    for pos in out_lists_y[i]:\n",
    "      encoded_y.append(encoding.encoding[encoding.pos2idx[pos]])\n",
    "    out_lists_x[i] = token_words\n",
    "    out_lists_y[i] = encoded_y\n",
    "  return torch.LongTensor(out_lists_x), torch.Tensor(out_lists_y)\n",
    "\n",
    "def transform_data_by_files(input_data:'pd.Dataframe', vocab:'Vocabulary', encoding:'PosEncoding') -> Tuple[torch.Tensor, torch.Tensor]:\n",
    "  out_lists_x = {}\n",
    "  out_lists_y = {}\n",
    "  for i in range(input_data.shape[0]):\n",
    "    row = input_data.iloc[i, :]\n",
    "    source = row['source file']\n",
    "    if not source in out_lists_x:\n",
    "      out_lists_x[source] = []\n",
    "      out_lists_y[source] = []\n",
    "    out_lists_x[source].append(row['word/symbol'])\n",
    "    out_lists_y[source].append(row['pos label'])\n",
    "  max_len = 0\n",
    "  for key in out_lists_x.keys():\n",
    "    if len(out_lists_x[key]) > max_len:\n",
    "      max_len = len(out_lists_x[key])\n",
    "  for key in out_lists_x.keys():\n",
    "    out_lists_x[key] = tail_pad(out_lists_x[key], max_len, '<pad>')\n",
    "    out_lists_y[key] = tail_pad(out_lists_y[key], max_len, '<pad>')\n",
    "    token_words = []\n",
    "    for word in out_lists_x[key]:\n",
    "      token_words.append(vocab.word2idx(word))\n",
    "    encoded_y = []\n",
    "    for pos in out_lists_y[key]:\n",
    "      encoded_y.append(encoding.encoding[encoding.pos2idx[pos]])\n",
    "    out_lists_x[key] = token_words\n",
    "    out_lists_y[key] = encoded_y\n",
    "  return torch.LongTensor([ out_lists_x[key] for key in out_lists_x.keys()]), torch.Tensor([out_lists_y[key] for key in out_lists_y.keys()])"
   ]
  },
  {
   "cell_type": "code",
   "execution_count": 51,
   "metadata": {
    "id": "06j2xmDpQU3n"
   },
   "outputs": [],
   "source": [
    "x_train, y_train = transform_data(train_data, vocabulary, pos_encoding)\n",
    "x_validation, y_validation = transform_data(validation_data, vocabulary, pos_encoding)"
   ]
  },
  {
   "cell_type": "markdown",
   "metadata": {
    "id": "1bJHoUF-PWgx"
   },
   "source": [
    "# [Task 3 - 1.0 points] Model definition\n",
    "\n",
    "You are now tasked to define your neural POS tagger."
   ]
  },
  {
   "cell_type": "markdown",
   "metadata": {
    "id": "Q_bPdqU-PWg0"
   },
   "source": [
    "### Instructions\n",
    "\n",
    "* **Baseline**: implement a Bidirectional LSTM with a Dense layer on top.\n",
    "* You are **free** to experiment with hyper-parameters to define the baseline model.\n",
    "\n",
    "* **Model 1**: add an additional LSTM layer to the Baseline model.\n",
    "* **Model 2**: add an additional Dense layer to the Baseline model.\n",
    "\n",
    "* **Do not mix Model 1 and Model 2**. Each model has its own instructions.\n",
    "\n",
    "**Note**: if a document contains many tokens, you are **free** to split them into chunks or sentences to define your mini-batches."
   ]
  },
  {
   "cell_type": "code",
   "execution_count": 52,
   "metadata": {
    "colab": {
     "base_uri": "https://localhost:8080/"
    },
    "id": "r6gHqF1O9xYd",
    "outputId": "0ee21c5f-bf3b-4d8f-a351-0a4d1c3ed448"
   },
   "outputs": [
    {
     "name": "stdout",
     "output_type": "stream",
     "text": [
      "Device: cpu\n"
     ]
    }
   ],
   "source": [
    "device = torch.device('cuda' if torch.cuda.is_available() else 'cpu')\n",
    "print('Device: %s' % device)"
   ]
  },
  {
   "cell_type": "markdown",
   "metadata": {
    "id": "DyZr-MXqE2pZ"
   },
   "source": [
    "## LSTM Layer\n",
    "\n",
    "A very simple layer. It creates a LSTM that can be used with the `NeuralNetwork` class."
   ]
  },
  {
   "cell_type": "code",
   "execution_count": 53,
   "metadata": {
    "id": "XmlrTkavE68H"
   },
   "outputs": [],
   "source": [
    "class LSTMLayer(nn.Module):\n",
    "  \"\"\"\n",
    "  A very simple layer. It creates a LSTM that can be used with the `NeuralNetwork` class.\n",
    "  \"\"\"\n",
    "  def __init__(self, input_size:'int', hidden_size:'int', bidirectional:'bool') -> None:\n",
    "    \"\"\"\n",
    "    Parameters\n",
    "    ----------\n",
    "    input_size: int\n",
    "      The size of the input to the LSTM layer.\n",
    "    hidden_size: int\n",
    "      The number of LSTM layers.\n",
    "    bidirectional: bool\n",
    "      If the LSTM layer are birectional or not.\n",
    "    \"\"\"\n",
    "    super(LSTMLayer, self).__init__()\n",
    "    self.lstm = nn.LSTM(input_size=input_size, hidden_size=hidden_size, batch_first=True, bidirectional=bidirectional)\n",
    "\n",
    "  def forward(self, x):\n",
    "    out, _ = self.lstm(x)\n",
    "    return out"
   ]
  },
  {
   "cell_type": "markdown",
   "metadata": {
    "id": "wmEFLqd3FITE"
   },
   "source": [
    "## Embed Layer\n",
    "\n",
    "This layer handles the embedding of the tokens. It contains two embedding layers: the first assumes that there are pretrained vectors to use \\(vector given as arguments to the `__init__` function\\), the second one covers the values that are not present in the pretrained vector. The second embedding layer will be initialized with random values.\n",
    "\n",
    "The first embedding layer can be frozen in order to avoid training it."
   ]
  },
  {
   "cell_type": "markdown",
   "metadata": {
    "id": "WKNXUbVdGwjt"
   },
   "source": [
    "### How the replace Embedding layer works\n",
    "![img](https://drive.google.com/uc?export=view&id=1tC7yKZwKDkv6RkBK4nU5kz3ckKocnJf4)"
   ]
  },
  {
   "cell_type": "code",
   "execution_count": 54,
   "metadata": {
    "id": "2_2LSqC0GENZ"
   },
   "outputs": [],
   "source": [
    "class EmbedLayer_replace(nn.Module):\n",
    "  def __init__(self, vocabulary, embedding_dim):\n",
    "        super(EmbedLayer_replace, self).__init__()\n",
    "        self.embedding = nn.Embedding.from_pretrained(vocabulary.vectors)\n",
    "        self.oov_embedding = nn.Embedding(vocabulary.dim, embedding_dim)\n",
    "        nn.init.uniform_(self.oov_embedding.weight, -1.0, 1.0)\n",
    "\n",
    "  def freeze(self, freeze:'bool'):\n",
    "    self.embedding.freeze = freeze\n",
    "\n",
    "\n",
    "  def forward(self, x):\n",
    "    embedded = self.embedding(x)\n",
    "    mask = (embedded[:, :, -1] == 0).nonzero()\n",
    "\n",
    "    embedded[mask[:, 0], mask[:, 1], :] = self.oov_embedding(x[mask[:, 0], mask[:, 1]])\n",
    "    return embedded\n"
   ]
  },
  {
   "cell_type": "markdown",
   "metadata": {
    "id": "duNiM5h_gXoy"
   },
   "source": [
    "This second version of the embedding works a bit differently: It sums the two embedding values instead of replacing the oov words only. The second random embedding should \\(hopefully\\) work as \"fine-tuning\" layer for training words and be the only embedding for non-pretrained words. We should try and see which version works the best  "
   ]
  },
  {
   "cell_type": "markdown",
   "metadata": {
    "id": "tAs47oOXX_Cc"
   },
   "source": [
    "### How the sum Embedding layer works\n",
    "![img](https://drive.google.com/uc?export=view&id=1RrF4tv5YD7gNgjzTJXpeUq3LgQQGAAyH)"
   ]
  },
  {
   "cell_type": "code",
   "execution_count": 55,
   "metadata": {
    "id": "1fs__rBUgBAR"
   },
   "outputs": [],
   "source": [
    "class EmbedLayer_sum(nn.Module):\n",
    "  def __init__(self, vocabulary, embedding_dim):\n",
    "        super(EmbedLayer_sum, self).__init__()\n",
    "        self.embedding = nn.Embedding.from_pretrained(vocabulary.vectors)\n",
    "        self.oov_embedding = nn.Embedding(vocabulary.dim, embedding_dim)\n",
    "        nn.init.uniform_(self.oov_embedding.weight, -1.0, 1.0)\n",
    "\n",
    "  def freeze(self, freeze:'bool'):\n",
    "    self.embedding.freeze = freeze\n",
    "\n",
    "\n",
    "  def forward(self, x):\n",
    "    pre_trained_embedded = self.embedding(x)\n",
    "\n",
    "    oov_embeds = self.oov_embedding(x)\n",
    "    return pre_trained_embedded + oov_embeds"
   ]
  },
  {
   "cell_type": "markdown",
   "metadata": {
    "id": "CApiISQ1D18z"
   },
   "source": [
    "## NeuralNetwork\n",
    "This class is a really simple class that helps with crating a neural network. The constructor needs the optimizer and the loss that are gonna be useful for for training and the device on which the network will be trained. Each parameter can be updated in a second moment.\n",
    "### Methods\n",
    " - The add method can be used to add layers to the nn.\n",
    " - The compile method can be used to actually create the nn \\(the order of the layers will be the same as the order they have been passed to the add method\\)\n",
    " - The train method can be used to train the nn"
   ]
  },
  {
   "cell_type": "code",
   "execution_count": 56,
   "metadata": {
    "colab": {
     "base_uri": "https://localhost:8080/"
    },
    "id": "HO_qvV3Zwm_Q",
    "outputId": "b8f095e1-11bb-49f0-c95b-02a2cb4c78ad"
   },
   "outputs": [
    {
     "name": "stdout",
     "output_type": "stream",
     "text": [
      "1\n",
      "2\n",
      "3\n",
      "4\n",
      "7\n",
      "8\n",
      "45\n"
     ]
    }
   ],
   "source": [
    "print(pos_encoding.pos2idx['#'])\n",
    "print(pos_encoding.pos2idx['$'])\n",
    "print(pos_encoding.pos2idx[\"''\"])\n",
    "print(pos_encoding.pos2idx[','])\n",
    "print(pos_encoding.pos2idx['.'])\n",
    "print(pos_encoding.pos2idx[':'])\n",
    "print(pos_encoding.pos2idx['``'])"
   ]
  },
  {
   "cell_type": "code",
   "execution_count": 57,
   "metadata": {
    "id": "0shqASbzk0V2"
   },
   "outputs": [],
   "source": [
    "def masked_accuracy(best_guesses, targets):\n",
    "\n",
    "  exclude_values = torch.Tensor([pos_encoding.pos2idx['<pad>'],\n",
    "                    pos_encoding.pos2idx['#'],\n",
    "                    pos_encoding.pos2idx['$'],\n",
    "                    pos_encoding.pos2idx[\"''\"],\n",
    "                    pos_encoding.pos2idx[','],\n",
    "                    pos_encoding.pos2idx['.'],\n",
    "                    pos_encoding.pos2idx[':'],\n",
    "                    pos_encoding.pos2idx['``']])\n",
    "  idx_to_use = torch.isin(targets, exclude_values, invert=True)\n",
    "  actual_targets = targets[idx_to_use]\n",
    "  actual_best_guesses = best_guesses[idx_to_use]\n",
    "  correct_percentage = accuracy_score(actual_targets,actual_best_guesses)\n",
    "  return correct_percentage"
   ]
  },
  {
   "cell_type": "code",
   "execution_count": 58,
   "metadata": {
    "id": "0gRFP9OJ6mWn"
   },
   "outputs": [],
   "source": [
    "class NeuralNetwork:\n",
    "  \"\"\"\n",
    "  This class implements a simple interface to get a working neural network using pytorch.\n",
    "  \"\"\"\n",
    "  def __init__(self, optimizer = torch.optim.Adam, loss = nn.CrossEntropyLoss(), device:'str' = 'cpu'):\n",
    "      \"\"\"\n",
    "      Parameters\n",
    "      ----------\n",
    "      optimizer:\n",
    "        The optimizer to use while training, default to Adam.\n",
    "      loss:\n",
    "        The loss function to use while training, default to crossentropy\n",
    "      device: str\n",
    "        The device where to train end evaluate the neural network. It must be either cpu or a valid pytorch device (e.g. cuda). Default to cpu\n",
    "      \"\"\"\n",
    "      self.layers = []\n",
    "      self.net = None\n",
    "      self.optimizer = optimizer\n",
    "      self.loss = loss\n",
    "      self.device = device\n",
    "\n",
    "  def add(self, *layer:'nn.Module'):\n",
    "    \"\"\"\n",
    "      A function to add layers to the Neural network. The layers must be presentend in the order you want them to be called.\n",
    "      Parameters\n",
    "      ----------\n",
    "      layer: nn.Module\n",
    "        An arbitrary amount of layers to be added to the Neural network. The layers must be presentend in the order you want them to be called.\n",
    "    \"\"\"\n",
    "    if not self.net is None:\n",
    "      print(\"WARNING: the neural network has already been built. If you want the added layer to be added to the built network please rebuild it.\")\n",
    "    self.layers += layer\n",
    "\n",
    "  def compile(self):\n",
    "    \"\"\"\n",
    "      Call this method before using the Neural network for inference or training. It builds the actual neural network.\n",
    "    \"\"\"\n",
    "    if not self.net is None:\n",
    "      print(\"WARNING: the previous network will be discarded. Please retrain the network before using it for inference.\")\n",
    "    self.net = nn.Sequential(*self.layers)\n",
    "    self.net = self.net.to(self.device)\n",
    "    return self\n",
    "\n",
    "  def __str__(self) -> str:\n",
    "     return f\"{self.net}\"\n",
    "\n",
    "  def __call__(self, x):\n",
    "    return self.net(x)\n",
    "\n",
    "  def train(self,\n",
    "            train_loader:'torch.utils.data.DataLoader',\n",
    "            validation_loader:'torch.utils.data.DataLoader',\n",
    "            learning_rate:'float'=.1,\n",
    "            epochs:'int'=10,\n",
    "            metrics:'dict[str,callable]' = {'accuracy': masked_accuracy}) -> Tuple[dict[str,list[float]],dict[str,list[float]]]:\n",
    "    \"\"\"\n",
    "      A simple training loop for the neural network. It returns the epochs loss and accuracy history both on the training and the validation set. The tuple will be formatted as:\n",
    "      train loss, train accuracy, val loss, val accuracy\n",
    "      Parameters\n",
    "      ----------\n",
    "      train_loader: torch.utils.data.DataLoader\n",
    "        A dataloader containing the dataset that will be used for training the network\n",
    "      validation_loader: torch.utils.data.DataLoader\n",
    "        A dataloader containing the dataset that will be used for validate the network at the end of each epoch\n",
    "      learning_rate: float\n",
    "        The learning rate that will be used in the optimizer to train the network. Default to .1\n",
    "      epochs:\n",
    "        The number of training epochs, default to 10.\n",
    "    \"\"\"\n",
    "    net = self.net\n",
    "    optimizer = self.optimizer(net.parameters(), learning_rate)\n",
    "\n",
    "    train_loss_history = []\n",
    "    val_loss_history = []\n",
    "\n",
    "    start_ts = time.time()\n",
    "\n",
    "    total_batch = int(len(train_loader.dataset) / train_loader.batch_size)\n",
    "    train_metrics_scores = {}\n",
    "    val_metrics_scores = {}\n",
    "    for key in metrics:\n",
    "        train_metrics_scores[key] = []\n",
    "        val_metrics_scores[key] = []\n",
    "\n",
    "    for epoch in range(epochs):\n",
    "        net.train()\n",
    "        for batch_idx, data in enumerate(train_loader):\n",
    "            inputs, labels = data[0].to(self.device), data[1].to(self.device)\n",
    "\n",
    "            outputs = net(inputs)\n",
    "            n_batch, n_sequence, n_classes = outputs.shape\n",
    "            loss_outputs = torch.reshape(outputs, (n_batch, n_classes, n_sequence))\n",
    "            loss_labels = torch.reshape(labels, (n_batch, n_classes, n_sequence))\n",
    "            loss = self.loss(loss_outputs, loss_labels)\n",
    "            loss.backward()\n",
    "            optimizer.step()\n",
    "            optimizer.zero_grad()\n",
    "            predicted_classes = torch.max(outputs, len(outputs.shape) - 1)[1].view(-1).cpu()\n",
    "            normal_labels = torch.max(labels, len(labels.shape) - 1)[1].view(-1).cpu()\n",
    "\n",
    "            stdout.write(f\"\\rbatch {batch_idx + 1}/{total_batch} ----- loss: {loss.cpu()} ----- {'-----'.join([f'{key}: {metrics[key](predicted_classes, normal_labels)}' for key in metrics.keys()])}\")\n",
    "            stdout.flush()\n",
    "\n",
    "        val_metrics, val_loss = self.__validate(validation_loader, metrics)\n",
    "        for key in metrics:\n",
    "          val_metrics_scores[key].append(val_metrics[key])\n",
    "        val_loss_history.append(val_loss)\n",
    "        train_metrics, train_loss = self.__validate(train_loader, metrics)\n",
    "        for key in metrics:\n",
    "          train_metrics_scores[key].append(train_metrics[key])\n",
    "        train_loss_history.append(train_loss)\n",
    "        out_str = \"======================================================================================================================================\\n\" + \\\n",
    "        f\"EPOCH {epoch + 1} training loss: {train_loss_history[-1]} - validation loss: {val_loss_history[-1]}\\n\" + \\\n",
    "        '\\n'.join([f\"EPOCH {epoch + 1} training {metric}: {train_metrics_scores[metric][-1]} - validation {metric}: {val_metrics_scores[metric][-1]}\" for metric in metrics.keys()]) + \\\n",
    "        \"\"\"\n",
    "======================================================================================================================================\n",
    "        \"\"\"\n",
    "        stdout.write(\"\\r\" + \" \" * len(out_str) + \"\\r\")\n",
    "        stdout.flush()\n",
    "        stdout.write(out_str)\n",
    "        stdout.flush()\n",
    "        print()\n",
    "        stdout.write(f'losses: {train_loss_history} \\nscores: {val_loss_history}')\n",
    "        stdout.flush()\n",
    "        print()\n",
    "        \n",
    "    train_metrics_scores['loss'] = train_loss_history\n",
    "    val_metrics_scores['loss'] = val_loss_history\n",
    "    return train_metrics_scores, val_metrics_scores\n",
    "\n",
    "  def __validate(self, loader, metrics):\n",
    "    losses = []\n",
    "    metrics_scores = {}\n",
    "    for key in metrics.keys():\n",
    "      metrics_scores[key] = []\n",
    "    net = self.net\n",
    "    net.eval()\n",
    "    with torch.no_grad():\n",
    "        for batch_idx, data in enumerate(loader):\n",
    "            inputs, labels = data[0].to(self.device), data[1].to(self.device)\n",
    "\n",
    "            outputs = net(inputs)\n",
    "            n_batch, n_sequence, n_classes = outputs.shape\n",
    "            outputs = torch.reshape(outputs, (n_batch, n_classes, n_sequence))\n",
    "            labels = torch.reshape(labels, (n_batch, n_classes, n_sequence))\n",
    "            loss = self.loss(outputs, labels)\n",
    "            losses.append(loss)\n",
    "            outputs = torch.reshape(outputs, (n_batch, n_sequence, n_classes))\n",
    "            labels = torch.reshape(labels, (n_batch, n_sequence, n_classes))\n",
    "            predicted_classes = torch.max(outputs, len(outputs.shape) - 1)[1].view(-1)\n",
    "            for key in metrics.keys():\n",
    "              metrics_scores[key].append(metrics[key](predicted_classes.cpu(), torch.max(labels, len(labels.shape) - 1)[1].view(-1).cpu()))\n",
    "\n",
    "    average_loss = sum(losses)/(batch_idx+1)\n",
    "    mean_metrics_scores = {}\n",
    "    for key in metrics.keys():\n",
    "      mean_metrics_scores[key] = sum(metrics_scores[key])/len(loader)\n",
    "    return mean_metrics_scores, average_loss"
   ]
  },
  {
   "cell_type": "code",
   "execution_count": 59,
   "metadata": {
    "id": "qyCEDeUSYuxL"
   },
   "outputs": [],
   "source": [
    "HIDDEN_LSTM_SIZE = 500\n",
    "LINEAR_SIZE = 200"
   ]
  },
  {
   "cell_type": "code",
   "execution_count": 60,
   "metadata": {
    "id": "I8ExCxvZ1ipS"
   },
   "outputs": [],
   "source": [
    "def compute_frequecies():\n",
    "  frequencies = [train_data[train_data['pos label'] == name]['pos label'].count() for name in pos_encoding.pos2idx.keys()]\n",
    "  max_freq = max(frequencies)\n",
    "  min_freq = min(frequencies)\n",
    "  norm_factor = max_freq - min_freq\n",
    "  weights = [1 + ((max_freq - freq)/norm_factor)**3 for freq in frequencies]\n",
    "  weights[pos_encoding.pos2idx['<pad>']] = 0\n",
    "  return torch.Tensor(weights)\n",
    "weights = compute_frequecies()\n"
   ]
  },
  {
   "cell_type": "code",
   "execution_count": 61,
   "metadata": {
    "colab": {
     "base_uri": "https://localhost:8080/"
    },
    "id": "mxduiNiFD14l",
    "outputId": "6b5d47ef-6870-467d-a175-c0d8862de1ee"
   },
   "outputs": [
    {
     "name": "stdout",
     "output_type": "stream",
     "text": [
      "Sequential(\n",
      "  (0): EmbedLayer_replace(\n",
      "    (embedding): Embedding(402348, 100)\n",
      "    (oov_embedding): Embedding(402348, 100)\n",
      "  )\n",
      "  (1): LSTMLayer(\n",
      "    (lstm): LSTM(100, 500, batch_first=True, bidirectional=True)\n",
      "  )\n",
      "  (2): Linear(in_features=1000, out_features=46, bias=True)\n",
      ")\n"
     ]
    }
   ],
   "source": [
    "embed_layer = EmbedLayer_replace(vocabulary, 100)\n",
    "embed_layer.freeze(True)\n",
    "baseline = NeuralNetwork(device=device, loss=nn.CrossEntropyLoss(weights.to(device)))\n",
    "baseline.add(embed_layer,\n",
    "          LSTMLayer(100, HIDDEN_LSTM_SIZE, True),\n",
    "          nn.Linear(HIDDEN_LSTM_SIZE * 2, y_train.shape[2])\n",
    "          )\n",
    "print(baseline.compile())"
   ]
  },
  {
   "cell_type": "code",
   "execution_count": 62,
   "metadata": {
    "colab": {
     "base_uri": "https://localhost:8080/"
    },
    "id": "5uUh_OdCLmmI",
    "outputId": "33bb9cd1-6d0a-4617-9a8b-9aa0e1674878"
   },
   "outputs": [
    {
     "name": "stdout",
     "output_type": "stream",
     "text": [
      "Sequential(\n",
      "  (0): EmbedLayer_replace(\n",
      "    (embedding): Embedding(402348, 100)\n",
      "    (oov_embedding): Embedding(402348, 100)\n",
      "  )\n",
      "  (1): LSTMLayer(\n",
      "    (lstm): LSTM(100, 500, batch_first=True, bidirectional=True)\n",
      "  )\n",
      "  (2): LSTMLayer(\n",
      "    (lstm): LSTM(1000, 500, batch_first=True, bidirectional=True)\n",
      "  )\n",
      "  (3): Linear(in_features=1000, out_features=46, bias=True)\n",
      ")\n"
     ]
    }
   ],
   "source": [
    "embed_layer = EmbedLayer_replace(vocabulary, 100)\n",
    "embed_layer.freeze(True)\n",
    "Model1 = NeuralNetwork()\n",
    "Model1.add(embed_layer,\n",
    "          LSTMLayer(100, HIDDEN_LSTM_SIZE, True),\n",
    "          LSTMLayer(HIDDEN_LSTM_SIZE * 2, HIDDEN_LSTM_SIZE, True),\n",
    "          nn.Linear(HIDDEN_LSTM_SIZE * 2, y_train.shape[2]))\n",
    "print(Model1.compile())"
   ]
  },
  {
   "cell_type": "code",
   "execution_count": 63,
   "metadata": {
    "colab": {
     "base_uri": "https://localhost:8080/"
    },
    "id": "SCk7QX0vL77t",
    "outputId": "e1aba773-f8c7-4b2e-dfbc-7becb78b1657"
   },
   "outputs": [
    {
     "name": "stdout",
     "output_type": "stream",
     "text": [
      "Sequential(\n",
      "  (0): EmbedLayer_replace(\n",
      "    (embedding): Embedding(402348, 100)\n",
      "    (oov_embedding): Embedding(402348, 100)\n",
      "  )\n",
      "  (1): LSTMLayer(\n",
      "    (lstm): LSTM(100, 500, batch_first=True, bidirectional=True)\n",
      "  )\n",
      "  (2): Linear(in_features=1000, out_features=200, bias=True)\n",
      "  (3): ReLU()\n",
      "  (4): Linear(in_features=200, out_features=46, bias=True)\n",
      "  (5): Softmax(dim=0)\n",
      ")\n"
     ]
    }
   ],
   "source": [
    "embed_layer = EmbedLayer_replace(vocabulary, 100)\n",
    "embed_layer.freeze(True)\n",
    "model2 = NeuralNetwork()\n",
    "model2.add(embed_layer,\n",
    "          LSTMLayer(100, HIDDEN_LSTM_SIZE, True),\n",
    "          nn.Linear(HIDDEN_LSTM_SIZE * 2, LINEAR_SIZE),\n",
    "          nn.ReLU(),\n",
    "          nn.Linear(LINEAR_SIZE, y_train.shape[2]),\n",
    "          nn.Softmax(dim=0))\n",
    "print(model2.compile())"
   ]
  },
  {
   "cell_type": "code",
   "execution_count": 64,
   "metadata": {
    "id": "okAVljr7ILOM"
   },
   "outputs": [],
   "source": [
    "BATCH_SIZE = 50\n",
    "train_dataset = Dataset(x_train, y_train)\n",
    "train_loader = torch.utils.data.DataLoader(train_dataset, batch_size=BATCH_SIZE, shuffle=False)\n",
    "\n",
    "validation_dataset = Dataset(x_validation, y_validation)\n",
    "validation_loader = torch.utils.data.DataLoader(validation_dataset, batch_size=BATCH_SIZE, shuffle=False)"
   ]
  },
  {
   "cell_type": "code",
   "execution_count": 65,
   "metadata": {
    "colab": {
     "base_uri": "https://localhost:8080/"
    },
    "id": "Sz3veASQEX1s",
    "outputId": "0f73528c-2d19-4612-88ae-25c2ca2d276b"
   },
   "outputs": [
    {
     "name": "stdout",
     "output_type": "stream",
     "text": [
      "======================================================================================================================================                                                                                                                                                                                                                                                                                                                         \n",
      "EPOCH 1 training loss: 1.4607067108154297 - validation loss: 2.450054883956909\n",
      "EPOCH 1 training accuracy: 0.10776457324155474 - validation accuracy: 0.08935782508465206\n",
      "======================================================================================================================================\n",
      "        \n",
      "losses: [tensor(1.4607)] \n",
      "scores: [tensor(2.4501)]\n",
      "======================================================================================================================================                                                                                                                                                                                                                                                                                                                        \n",
      "EPOCH 2 training loss: 1.2597166299819946 - validation loss: 1.7760167121887207\n",
      "EPOCH 2 training accuracy: 0.2007188635010148 - validation accuracy: 0.1820726282772384\n",
      "======================================================================================================================================\n",
      "        \n",
      "losses: [tensor(1.4607), tensor(1.2597)] \n",
      "scores: [tensor(2.4501), tensor(1.7760)]\n"
     ]
    }
   ],
   "source": [
    "r = baseline.train(train_loader, validation_loader, epochs=2, learning_rate=0.01)"
   ]
  },
  {
   "cell_type": "markdown",
   "metadata": {
    "id": "eYMHZEeMPWg1"
   },
   "source": [
    "# [Task 4 - 1.0 points] Metrics\n",
    "\n",
    "Before training the models, you are tasked to define the evaluation metrics for comparison."
   ]
  },
  {
   "cell_type": "markdown",
   "metadata": {
    "id": "Q0AFgk7qPWg2"
   },
   "source": [
    "### Instructions\n",
    "\n",
    "* Evaluate your models using macro F1-score, compute over **all** tokens.\n",
    "* **Concatenate** all tokens in a data split to compute the F1-score. (**Hint**: accumulate FP, TP, FN, TN iteratively)\n",
    "* **Do not consider punctuation and symbol classes** $\\rightarrow$ [What is punctuation?](https://en.wikipedia.org/wiki/English_punctuation)"
   ]
  },
  {
   "cell_type": "markdown",
   "metadata": {
    "id": "cRbAjydQPWg2"
   },
   "source": [
    "**Note**: What about OOV tokens?\n",
    "   * All the tokens in the **training** set that are not in GloVe are **not** considered as OOV\n",
    "   * For the remaining tokens (i.e., OOV in the validation and test sets), you have to assign them a **static** embedding.\n",
    "   * You are **free** to define the static embedding using any strategy (e.g., random, neighbourhood, etc...)"
   ]
  },
  {
   "cell_type": "code",
   "execution_count": 102,
   "metadata": {},
   "outputs": [],
   "source": [
    "def get_static_embedding(embedding_length):\n",
    "    return [i for i in range(embedding_length)]\n",
    "\n",
    "def generate_predictions(model, test_set):\n",
    "    predictions = model.predict(test_set)\n",
    "    return predictions\n",
    "\n",
    "\n",
    "\n",
    "def masked_f1_score(predicted_values, targets):\n",
    "    f1_class_scores = dict()\n",
    "    exclude_values = torch.Tensor([pos_encoding.pos2idx['<pad>'],\n",
    "                    pos_encoding.pos2idx['#'],\n",
    "                    pos_encoding.pos2idx['$'],\n",
    "                    pos_encoding.pos2idx[\"''\"],\n",
    "                    pos_encoding.pos2idx[','],\n",
    "                    pos_encoding.pos2idx['.'],\n",
    "                    pos_encoding.pos2idx[':'],\n",
    "                    pos_encoding.pos2idx['``']])\n",
    "    idx_to_use = torch.isin(targets, exclude_values, invert=True)\n",
    "    actual_targets = targets[idx_to_use]\n",
    "    actual_predictions = predicted_values[idx_to_use]\n",
    "    classes = set(actual_targets.detach().numpy().tolist() + actual_predictions.detach().numpy().tolist())\n",
    "    \n",
    "    for cl in classes:\n",
    "        true_positive, false_positive, false_negative = 0, 0, 0\n",
    "        for act_targ, act_pred in zip(actual_targets, actual_predictions):\n",
    "            if act_pred == cl:\n",
    "                if act_pred == act_targ:\n",
    "                    true_positive += 1\n",
    "                else:\n",
    "                    false_positive += 1\n",
    "            else:\n",
    "                false_negative += 1\n",
    "            score = true_positive / (true_positive + (false_positive + false_negative))\n",
    "            f1_class_scores[cl] = score\n",
    "    \n",
    "    return np.mean(np.array(list(f1_class_scores.values())))\n",
    "    # correct_percentage = f1_score(actual_targets, actual_predictions, average='macro')\n",
    "    # return correct_percentage"
   ]
  },
  {
   "cell_type": "markdown",
   "metadata": {
    "id": "4rt8yXVMPWg2"
   },
   "source": [
    "# [Task 5 - 1.0 points] Training and Evaluation\n",
    "\n",
    "You are now tasked to train and evaluate the Baseline, Model 1, and Model 2."
   ]
  },
  {
   "cell_type": "markdown",
   "metadata": {
    "id": "w1SoEvCkPWg3"
   },
   "source": [
    "### Instructions\n",
    "\n",
    "* Train **all** models on the train set.\n",
    "* Evaluate **all** models on the validation set.\n",
    "* Compute metrics on the validation set.\n",
    "* Pick **at least** three seeds for robust estimation.\n",
    "* Pick the **best** performing model according to the observed validation set performance."
   ]
  },
  {
   "cell_type": "code",
   "execution_count": 75,
   "metadata": {},
   "outputs": [
    {
     "name": "stdout",
     "output_type": "stream",
     "text": [
      "======================================================================================================================================                                                                                                                                                                                                                                                                                                                           \n",
      "EPOCH 1 training loss: 1.1324265003204346 - validation loss: 1.5818884372711182\n",
      "EPOCH 1 training f1_score: 0.018294107050929143 - validation f1_score: 0.01802206510099769\n",
      "======================================================================================================================================\n",
      "        \n",
      "losses: [tensor(1.1324)] \n",
      "scores: [tensor(1.5819)]\n",
      "======================================================================================================================================                                                                                                                                                                                                                                                                                                                            \n",
      "EPOCH 2 training loss: 1.0909565687179565 - validation loss: 1.5826140642166138\n",
      "EPOCH 2 training f1_score: 0.023388235129027574 - validation f1_score: 0.022847761582783975\n",
      "======================================================================================================================================\n",
      "        \n",
      "losses: [tensor(1.1324), tensor(1.0910)] \n",
      "scores: [tensor(1.5819), tensor(1.5826)]\n"
     ]
    }
   ],
   "source": [
    "r_f1 = baseline.train(train_loader, validation_loader, epochs=2, learning_rate=0.01, metrics = {'f1_score': masked_f1_score})"
   ]
  },
  {
   "cell_type": "markdown",
   "metadata": {
    "id": "B_DGswu1PWg3"
   },
   "source": [
    "# [Task 6 - 1.0 points] Error Analysis\n",
    "\n",
    "You are tasked to evaluate your best performing model."
   ]
  },
  {
   "cell_type": "markdown",
   "metadata": {
    "id": "uo7c7KDbPWg4"
   },
   "source": [
    "### Instructions\n",
    "\n",
    "* Compare the errors made on the validation and test sets.\n",
    "* Aggregate model errors into categories (if possible)\n",
    "* Comment the about errors and propose possible solutions on how to address them."
   ]
  },
  {
   "cell_type": "code",
   "execution_count": 70,
   "metadata": {},
   "outputs": [],
   "source": [
    "def show_results(losses, validations, score_name):\n",
    "    train_batch = np.arange(len(losses['loss'])) \n",
    "    train_loss = list(map(int, losses['loss']))\n",
    "    train_score = losses[score_name]\n",
    "    \n",
    "    val_batch = np.arange(len(validations['loss'])) \n",
    "    val_loss = list(map(int, validations['loss']))\n",
    "    val_score = validations[score_name]\n",
    "    \n",
    "    f, (ax1, ax2) = plt.subplots(1, 2, sharey=True)\n",
    "    ax1.plot(train_batch, train_loss, color='blue', label='train_loss')\n",
    "    ax1.plot(train_batch, train_score, color='green', label=f'train_{score_name}')\n",
    "    ax1.set_title('Train')\n",
    "    ax1.legend()\n",
    "    \n",
    "    ax2.plot(val_batch, val_loss, color='blue', label='val_loss')\n",
    "    ax2.plot(val_batch, val_score, color='green', label=f'val_{score_name}')\n",
    "    ax2.set_title('Validation')\n",
    "    ax2.legend()\n",
    "    \n",
    "    plt.show()"
   ]
  },
  {
   "cell_type": "code",
   "execution_count": 71,
   "metadata": {},
   "outputs": [
    {
     "data": {
      "image/png": "[encoded data removed]",
      "text/plain": [
       "<Figure size 640x480 with 2 Axes>"
      ]
     },
     "metadata": {},
     "output_type": "display_data"
    }
   ],
   "source": [
    "show_results(r[0], r[1], 'accuracy')"
   ]
  },
  {
   "cell_type": "code",
   "execution_count": 76,
   "metadata": {},
   "outputs": [
    {
     "data": {
      "image/png": "[encoded data removed]",
      "text/plain": [
       "<Figure size 640x480 with 2 Axes>"
      ]
     },
     "metadata": {},
     "output_type": "display_data"
    }
   ],
   "source": [
    "show_results(r_f1[0], r_f1[1], 'f1_score')"
   ]
  },
  {
   "cell_type": "code",
   "execution_count": 84,
   "metadata": {},
   "outputs": [],
   "source": [
    "test_pos_labels = np.unique(test_data['pos label'])\n",
    "test_pos_encoding = PosEncoding(test_pos_labels)\n",
    "x_test, y_test = transform_data(test_data, vocabulary, test_pos_encoding)"
   ]
  },
  {
   "cell_type": "code",
   "execution_count": null,
   "metadata": {},
   "outputs": [],
   "source": [
    "predictions = baseline.net(x_test)\n",
    "print(predictions.shape)\n",
    "print(y_test.shape)\n",
    "# padded_y = torch.nn.functional.pad(input=y_test, pad=(0, 5, 0, 0), mode='constant', value=0) # I'm working on it!!!\n",
    "# f1_masked = masked_f1_score(predictions, padded_y)\n",
    "# print(f1_masked)"
   ]
  },
  {
   "cell_type": "markdown",
   "metadata": {
    "id": "Az6O5TuxPWg4"
   },
   "source": [
    "# [Task 7 - 1.0 points] Report\n",
    "\n",
    "Wrap up your experiment in a short report (up to 2 pages)."
   ]
  },
  {
   "cell_type": "markdown",
   "metadata": {
    "id": "qUJ9UKMZPWg5"
   },
   "source": [
    "### Instructions\n",
    "\n",
    "* Use the NLP course report template.\n",
    "* Summarize each task in the report following the provided template."
   ]
  },
  {
   "cell_type": "markdown",
   "metadata": {
    "id": "ZkUvb_LkPWg5"
   },
   "source": [
    "### Recommendations\n",
    "\n",
    "The report is not a copy-paste of graphs, tables, and command outputs.\n",
    "\n",
    "* Summarize classification performance in Table format.\n",
    "* **Do not** report command outputs or screenshots.\n",
    "* Report learning curves in Figure format.\n",
    "* The error analysis section should summarize your findings."
   ]
  },
  {
   "cell_type": "markdown",
   "metadata": {
    "id": "K62xEDwFPWg6"
   },
   "source": [
    "# Submission\n",
    "\n",
    "* **Submit** your report in PDF format.\n",
    "* **Submit** your python notebook.\n",
    "* Make sure your notebook is **well organized**, with no temporary code, commented sections, tests, etc...\n",
    "* You can upload **model weights** in a cloud repository and report the link in the report."
   ]
  },
  {
   "cell_type": "markdown",
   "metadata": {
    "id": "017zL6z1PWg6"
   },
   "source": [
    "# FAQ\n",
    "\n",
    "Please check this frequently asked questions before contacting us"
   ]
  },
  {
   "cell_type": "markdown",
   "metadata": {
    "id": "sYjOdgbMPWg6"
   },
   "source": [
    "### Trainable Embeddings\n",
    "\n",
    "You are **free** to define a trainable or non-trainable Embedding layer to load the GloVe embeddings."
   ]
  },
  {
   "cell_type": "markdown",
   "metadata": {
    "id": "FUsAIjyYPWg7"
   },
   "source": [
    "### Model architecture\n",
    "\n",
    "You **should not** change the architecture of a model (i.e., its layers).\n",
    "\n",
    "However, you are **free** to play with their hyper-parameters."
   ]
  },
  {
   "cell_type": "markdown",
   "metadata": {
    "id": "62oRvXM2PWg7"
   },
   "source": [
    "### Neural Libraries\n",
    "\n",
    "You are **free** to use any library of your choice to implement the networks (e.g., Keras, Tensorflow, PyTorch, JAX, etc...)"
   ]
  },
  {
   "cell_type": "markdown",
   "metadata": {
    "id": "ULplO2tTPWg8"
   },
   "source": [
    "### Keras TimeDistributed Dense layer\n",
    "\n",
    "If you are using Keras, we recommend wrapping the final Dense layer with `TimeDistributed`."
   ]
  },
  {
   "cell_type": "markdown",
   "metadata": {
    "id": "KNEBeS9HPWg8"
   },
   "source": [
    "### Error Analysis\n",
    "\n",
    "Some topics for discussion include:\n",
    "   * Model performance on most/less frequent classes.\n",
    "   * Precision/Recall curves.\n",
    "   * Confusion matrices.\n",
    "   * Specific misclassified samples."
   ]
  },
  {
   "cell_type": "markdown",
   "metadata": {
    "id": "snebFw_VPWg9"
   },
   "source": [
    "### Punctuation\n",
    "\n",
    "**Do not** remove punctuation from documents since it may be helpful to the model.\n",
    "\n",
    "You should **ignore** it during metrics computation.\n",
    "\n",
    "If you are curious, you can run additional experiments to verify the impact of removing punctuation."
   ]
  },
  {
   "cell_type": "markdown",
   "metadata": {
    "id": "P9sTFDJrPWg9"
   },
   "source": [
    "# The End"
   ]
  }
 ],
 "metadata": {
  "accelerator": "GPU",
  "celltoolbar": "Slideshow",
  "colab": {
   "gpuType": "T4",
   "provenance": []
  },
  "kernelspec": {
   "display_name": "Python 3 (ipykernel)",
   "language": "python",
   "name": "python3"
  },
  "language_info": {
   "codemirror_mode": {
    "name": "ipython",
    "version": 3
   },
   "file_extension": ".py",
   "mimetype": "text/x-python",
   "name": "python",
   "nbconvert_exporter": "python",
   "pygments_lexer": "ipython3",
   "version": "3.9.13"
  }
 },
 "nbformat": 4,
 "nbformat_minor": 4
}
